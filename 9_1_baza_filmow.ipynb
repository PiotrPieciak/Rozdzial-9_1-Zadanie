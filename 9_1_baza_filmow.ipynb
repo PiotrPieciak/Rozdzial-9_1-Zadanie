{
 "cells": [
  {
   "cell_type": "markdown",
   "id": "cfb550b6-7914-4dc6-90e7-c994d09ebac7",
   "metadata": {},
   "source": [
    "# Rozdział 9.1 Zadanie Baza filmów"
   ]
  },
  {
   "cell_type": "markdown",
   "id": "2515b1a7-4684-480c-9cb8-b9df80f3732b",
   "metadata": {},
   "source": [
    "#### Import bibliotek i wczytanie danych z plików"
   ]
  },
  {
   "cell_type": "code",
   "execution_count": 3,
   "id": "a1f3dda5-9a7e-4863-b6d8-370e5daf6569",
   "metadata": {},
   "outputs": [],
   "source": [
    "import pandas as pd\n",
    "import numpy as np\n",
    "import matplotlib.pyplot as plt "
   ]
  },
  {
   "cell_type": "code",
   "execution_count": 4,
   "id": "415ae70c-8509-4700-9f09-b9f29ebdcd60",
   "metadata": {},
   "outputs": [],
   "source": [
    "film_base = pd.read_csv('tmdb_movies.csv')\n",
    "film_genres = pd.read_csv('tmdb_genres.csv')"
   ]
  },
  {
   "cell_type": "markdown",
   "id": "a3477015-a0d6-402c-8b44-42e41823aa00",
   "metadata": {},
   "source": [
    "## Zadanie 1 "
   ]
  },
  {
   "cell_type": "code",
   "execution_count": 6,
   "id": "b35a16ba-a257-44b5-b117-121b1461e4a7",
   "metadata": {},
   "outputs": [],
   "source": [
    "film_base_temp = film_base"
   ]
  },
  {
   "cell_type": "markdown",
   "id": "0064f4c5-ecfa-4067-946e-747679a3c96f",
   "metadata": {},
   "source": [
    "#### Przypisanie do film_vote_count_3q jedynie filmów powyżej 3 kwartyla"
   ]
  },
  {
   "cell_type": "code",
   "execution_count": 8,
   "id": "a07c9ef5-4ca4-4d52-a2a6-94762f438f96",
   "metadata": {},
   "outputs": [],
   "source": [
    "film_vote_count_3q = film_base_temp.loc[film_base_temp['vote_count'] >= film_base_temp['vote_count'].quantile(0.75)]"
   ]
  },
  {
   "cell_type": "markdown",
   "id": "79c232a7-2bba-4125-bfd7-9627f6eaa31d",
   "metadata": {},
   "source": [
    "#### Sortowanie filmów powyżej 3 kwartyla pod kątem średniej wartości oceny i wyświetlenie wyników dla pierwszych 10 filmów"
   ]
  },
  {
   "cell_type": "code",
   "execution_count": 10,
   "id": "539f35a1-ae84-4d02-902b-c9c404614144",
   "metadata": {},
   "outputs": [
    {
     "data": {
      "text/html": [
       "<div>\n",
       "<style scoped>\n",
       "    .dataframe tbody tr th:only-of-type {\n",
       "        vertical-align: middle;\n",
       "    }\n",
       "\n",
       "    .dataframe tbody tr th {\n",
       "        vertical-align: top;\n",
       "    }\n",
       "\n",
       "    .dataframe thead th {\n",
       "        text-align: right;\n",
       "    }\n",
       "</style>\n",
       "<table border=\"1\" class=\"dataframe\">\n",
       "  <thead>\n",
       "    <tr style=\"text-align: right;\">\n",
       "      <th></th>\n",
       "      <th>title</th>\n",
       "      <th>vote_average</th>\n",
       "      <th>vote_count</th>\n",
       "    </tr>\n",
       "  </thead>\n",
       "  <tbody>\n",
       "    <tr>\n",
       "      <th>1881</th>\n",
       "      <td>The Shawshank Redemption</td>\n",
       "      <td>8.5</td>\n",
       "      <td>8205</td>\n",
       "    </tr>\n",
       "    <tr>\n",
       "      <th>3337</th>\n",
       "      <td>The Godfather</td>\n",
       "      <td>8.4</td>\n",
       "      <td>5893</td>\n",
       "    </tr>\n",
       "    <tr>\n",
       "      <th>2294</th>\n",
       "      <td>Spirited Away</td>\n",
       "      <td>8.3</td>\n",
       "      <td>3840</td>\n",
       "    </tr>\n",
       "    <tr>\n",
       "      <th>3865</th>\n",
       "      <td>Whiplash</td>\n",
       "      <td>8.3</td>\n",
       "      <td>4254</td>\n",
       "    </tr>\n",
       "    <tr>\n",
       "      <th>2731</th>\n",
       "      <td>The Godfather: Part II</td>\n",
       "      <td>8.3</td>\n",
       "      <td>3338</td>\n",
       "    </tr>\n",
       "    <tr>\n",
       "      <th>3232</th>\n",
       "      <td>Pulp Fiction</td>\n",
       "      <td>8.3</td>\n",
       "      <td>8428</td>\n",
       "    </tr>\n",
       "    <tr>\n",
       "      <th>1818</th>\n",
       "      <td>Schindler's List</td>\n",
       "      <td>8.3</td>\n",
       "      <td>4329</td>\n",
       "    </tr>\n",
       "    <tr>\n",
       "      <th>662</th>\n",
       "      <td>Fight Club</td>\n",
       "      <td>8.3</td>\n",
       "      <td>9413</td>\n",
       "    </tr>\n",
       "    <tr>\n",
       "      <th>2170</th>\n",
       "      <td>Psycho</td>\n",
       "      <td>8.2</td>\n",
       "      <td>2320</td>\n",
       "    </tr>\n",
       "    <tr>\n",
       "      <th>1847</th>\n",
       "      <td>GoodFellas</td>\n",
       "      <td>8.2</td>\n",
       "      <td>3128</td>\n",
       "    </tr>\n",
       "  </tbody>\n",
       "</table>\n",
       "</div>"
      ],
      "text/plain": [
       "                         title  vote_average  vote_count\n",
       "1881  The Shawshank Redemption           8.5        8205\n",
       "3337             The Godfather           8.4        5893\n",
       "2294             Spirited Away           8.3        3840\n",
       "3865                  Whiplash           8.3        4254\n",
       "2731    The Godfather: Part II           8.3        3338\n",
       "3232              Pulp Fiction           8.3        8428\n",
       "1818          Schindler's List           8.3        4329\n",
       "662                 Fight Club           8.3        9413\n",
       "2170                    Psycho           8.2        2320\n",
       "1847                GoodFellas           8.2        3128"
      ]
     },
     "execution_count": 10,
     "metadata": {},
     "output_type": "execute_result"
    }
   ],
   "source": [
    "film_vote_count_3q_sorted = film_vote_count_3q.sort_values(by='vote_average',ascending=False)\n",
    "film_vote_count_3q_sorted[['title','vote_average','vote_count']].iloc[:10,:]"
   ]
  },
  {
   "cell_type": "markdown",
   "id": "1b039873-e991-4c41-a726-658ff0f3fbbb",
   "metadata": {},
   "source": [
    "## Zadanie 2 "
   ]
  },
  {
   "cell_type": "markdown",
   "id": "6660dbe0-b9ba-4c34-897d-bf7fdcd84758",
   "metadata": {},
   "source": [
    "#### By móc dzialać na datach, najpierw trzeba sprawdzić czy w kolumnie znajdują się jakieś wpisy NaN"
   ]
  },
  {
   "cell_type": "code",
   "execution_count": 13,
   "id": "55c7d4c2-5e86-4b71-ac74-d771067e7ee5",
   "metadata": {},
   "outputs": [],
   "source": [
    "table_revenue_budget = film_base[['original_title','release_date','revenue','budget']]"
   ]
  },
  {
   "cell_type": "code",
   "execution_count": 14,
   "id": "b2f56bd7-7c26-4325-9793-e406d43a651f",
   "metadata": {},
   "outputs": [
    {
     "data": {
      "text/html": [
       "<div>\n",
       "<style scoped>\n",
       "    .dataframe tbody tr th:only-of-type {\n",
       "        vertical-align: middle;\n",
       "    }\n",
       "\n",
       "    .dataframe tbody tr th {\n",
       "        vertical-align: top;\n",
       "    }\n",
       "\n",
       "    .dataframe thead th {\n",
       "        text-align: right;\n",
       "    }\n",
       "</style>\n",
       "<table border=\"1\" class=\"dataframe\">\n",
       "  <thead>\n",
       "    <tr style=\"text-align: right;\">\n",
       "      <th></th>\n",
       "      <th>original_title</th>\n",
       "      <th>release_date</th>\n",
       "      <th>revenue</th>\n",
       "      <th>budget</th>\n",
       "    </tr>\n",
       "  </thead>\n",
       "  <tbody>\n",
       "    <tr>\n",
       "      <th>4553</th>\n",
       "      <td>America Is Still the Place</td>\n",
       "      <td>NaN</td>\n",
       "      <td>0</td>\n",
       "      <td>0</td>\n",
       "    </tr>\n",
       "  </tbody>\n",
       "</table>\n",
       "</div>"
      ],
      "text/plain": [
       "                  original_title release_date  revenue  budget\n",
       "4553  America Is Still the Place          NaN        0       0"
      ]
     },
     "execution_count": 14,
     "metadata": {},
     "output_type": "execute_result"
    }
   ],
   "source": [
    "table_revenue_budget[table_revenue_budget['release_date'].isnull()]"
   ]
  },
  {
   "cell_type": "markdown",
   "id": "69fbeaf3-a083-4f82-b35b-67296af96d34",
   "metadata": {},
   "source": [
    "#### Znajdują się takowe wpisy więc je usuwamy"
   ]
  },
  {
   "cell_type": "code",
   "execution_count": 16,
   "id": "6eb782ac-3664-4f67-8207-9de2d0761b78",
   "metadata": {},
   "outputs": [],
   "source": [
    "table_revenue_budget=table_revenue_budget.dropna()"
   ]
  },
  {
   "cell_type": "markdown",
   "id": "5ffc6c96-b2c3-4e2e-8283-f6b718493ebc",
   "metadata": {},
   "source": [
    "#### do date_temp przypisujemy rok opublikowania filmu a nastepnie ten rok wpisujemy do pierwotnej DF table_revenue_budget jako nowa kolumna"
   ]
  },
  {
   "cell_type": "code",
   "execution_count": 18,
   "id": "c0fd3a15-c996-4f8d-8d1a-ebe46fa56172",
   "metadata": {},
   "outputs": [
    {
     "data": {
      "text/html": [
       "<div>\n",
       "<style scoped>\n",
       "    .dataframe tbody tr th:only-of-type {\n",
       "        vertical-align: middle;\n",
       "    }\n",
       "\n",
       "    .dataframe tbody tr th {\n",
       "        vertical-align: top;\n",
       "    }\n",
       "\n",
       "    .dataframe thead th {\n",
       "        text-align: right;\n",
       "    }\n",
       "</style>\n",
       "<table border=\"1\" class=\"dataframe\">\n",
       "  <thead>\n",
       "    <tr style=\"text-align: right;\">\n",
       "      <th></th>\n",
       "      <th>original_title</th>\n",
       "      <th>release_date</th>\n",
       "      <th>revenue</th>\n",
       "      <th>budget</th>\n",
       "      <th>year</th>\n",
       "    </tr>\n",
       "  </thead>\n",
       "  <tbody>\n",
       "    <tr>\n",
       "      <th>2871</th>\n",
       "      <td>Running with Scissors</td>\n",
       "      <td>2006-10-27</td>\n",
       "      <td>6754898</td>\n",
       "      <td>12000000</td>\n",
       "      <td>2006</td>\n",
       "    </tr>\n",
       "    <tr>\n",
       "      <th>1827</th>\n",
       "      <td>Teenage Mutant Ninja Turtles II: The Secret of...</td>\n",
       "      <td>1991-03-22</td>\n",
       "      <td>78000000</td>\n",
       "      <td>25000000</td>\n",
       "      <td>1991</td>\n",
       "    </tr>\n",
       "    <tr>\n",
       "      <th>777</th>\n",
       "      <td>The Mortal Instruments: City of Bones</td>\n",
       "      <td>2013-08-21</td>\n",
       "      <td>90565421</td>\n",
       "      <td>60000000</td>\n",
       "      <td>2013</td>\n",
       "    </tr>\n",
       "    <tr>\n",
       "      <th>2426</th>\n",
       "      <td>Larry the Cable Guy: Health Inspector</td>\n",
       "      <td>2006-03-24</td>\n",
       "      <td>0</td>\n",
       "      <td>0</td>\n",
       "      <td>2006</td>\n",
       "    </tr>\n",
       "    <tr>\n",
       "      <th>59</th>\n",
       "      <td>2012</td>\n",
       "      <td>2009-10-10</td>\n",
       "      <td>769653595</td>\n",
       "      <td>200000000</td>\n",
       "      <td>2009</td>\n",
       "    </tr>\n",
       "    <tr>\n",
       "      <th>1485</th>\n",
       "      <td>The Watcher</td>\n",
       "      <td>2000-09-08</td>\n",
       "      <td>0</td>\n",
       "      <td>33000000</td>\n",
       "      <td>2000</td>\n",
       "    </tr>\n",
       "    <tr>\n",
       "      <th>3685</th>\n",
       "      <td>Only God Forgives</td>\n",
       "      <td>2013-05-30</td>\n",
       "      <td>10337387</td>\n",
       "      <td>4800000</td>\n",
       "      <td>2013</td>\n",
       "    </tr>\n",
       "    <tr>\n",
       "      <th>300</th>\n",
       "      <td>Starship Troopers</td>\n",
       "      <td>1997-11-06</td>\n",
       "      <td>121214377</td>\n",
       "      <td>105000000</td>\n",
       "      <td>1997</td>\n",
       "    </tr>\n",
       "    <tr>\n",
       "      <th>2746</th>\n",
       "      <td>Baby Geniuses</td>\n",
       "      <td>1999-03-12</td>\n",
       "      <td>36450736</td>\n",
       "      <td>12000000</td>\n",
       "      <td>1999</td>\n",
       "    </tr>\n",
       "    <tr>\n",
       "      <th>556</th>\n",
       "      <td>Braveheart</td>\n",
       "      <td>1995-05-24</td>\n",
       "      <td>210000000</td>\n",
       "      <td>72000000</td>\n",
       "      <td>1995</td>\n",
       "    </tr>\n",
       "  </tbody>\n",
       "</table>\n",
       "</div>"
      ],
      "text/plain": [
       "                                         original_title release_date  \\\n",
       "2871                              Running with Scissors   2006-10-27   \n",
       "1827  Teenage Mutant Ninja Turtles II: The Secret of...   1991-03-22   \n",
       "777               The Mortal Instruments: City of Bones   2013-08-21   \n",
       "2426              Larry the Cable Guy: Health Inspector   2006-03-24   \n",
       "59                                                 2012   2009-10-10   \n",
       "1485                                        The Watcher   2000-09-08   \n",
       "3685                                  Only God Forgives   2013-05-30   \n",
       "300                                   Starship Troopers   1997-11-06   \n",
       "2746                                      Baby Geniuses   1999-03-12   \n",
       "556                                          Braveheart   1995-05-24   \n",
       "\n",
       "        revenue     budget  year  \n",
       "2871    6754898   12000000  2006  \n",
       "1827   78000000   25000000  1991  \n",
       "777    90565421   60000000  2013  \n",
       "2426          0          0  2006  \n",
       "59    769653595  200000000  2009  \n",
       "1485          0   33000000  2000  \n",
       "3685   10337387    4800000  2013  \n",
       "300   121214377  105000000  1997  \n",
       "2746   36450736   12000000  1999  \n",
       "556   210000000   72000000  1995  "
      ]
     },
     "execution_count": 18,
     "metadata": {},
     "output_type": "execute_result"
    }
   ],
   "source": [
    "date_temp = pd.to_datetime(table_revenue_budget['release_date']).dt.year\n",
    "table_revenue_budget['year']= date_temp\n",
    "table_revenue_budget.sample(10)"
   ]
  },
  {
   "cell_type": "markdown",
   "id": "39259e0f-a2f0-4262-b8b8-ee41f75ec0f5",
   "metadata": {},
   "source": [
    "#### Filtrujemy tabele by pozostały na niej wyłącznie filmy pomiedzy 2010 i 2016, a następnie robimy pivottable, by uzyskać dane budget, revenue, index"
   ]
  },
  {
   "cell_type": "code",
   "execution_count": 20,
   "id": "371f9110-76a2-4431-af45-24355f573c32",
   "metadata": {},
   "outputs": [],
   "source": [
    "table_revenue_budget = table_revenue_budget[((table_revenue_budget['year']>=2010) & (table_revenue_budget['year']<=2016))]"
   ]
  },
  {
   "cell_type": "code",
   "execution_count": 21,
   "id": "a55b4261-d246-4445-a683-8eb7775b095b",
   "metadata": {},
   "outputs": [],
   "source": [
    "table_revenue_budget = table_revenue_budget.pivot_table(index='year',values=['budget','revenue'],aggfunc='mean')"
   ]
  },
  {
   "cell_type": "code",
   "execution_count": 22,
   "id": "df50643c-0a96-42c6-9f10-ad8a5525b876",
   "metadata": {},
   "outputs": [],
   "source": [
    "table_revenue_budget = table_revenue_budget.sort_values(by='year',ascending=True)"
   ]
  },
  {
   "cell_type": "markdown",
   "id": "c837a859-70f8-4421-b33e-d00a70da0e51",
   "metadata": {},
   "source": [
    "#### Przygotowanie danych do wyświetlania w postaci wykresów"
   ]
  },
  {
   "cell_type": "code",
   "execution_count": 24,
   "id": "4cec68a4-388f-46e9-bb9b-363070cdc929",
   "metadata": {},
   "outputs": [],
   "source": [
    "budget = np.asarray(table_revenue_budget.iloc[:,0])\n",
    "revenue = np.asarray(table_revenue_budget.iloc[:,1])\n",
    "index = np.asarray(table_revenue_budget.index)"
   ]
  },
  {
   "cell_type": "markdown",
   "id": "2343b27a-b925-4b82-8e78-37abde33b461",
   "metadata": {},
   "source": [
    "#### Przygotowanie wykresu zgodnie z wytycznymi zadania"
   ]
  },
  {
   "cell_type": "code",
   "execution_count": 26,
   "id": "7911c46b-4fb7-4382-8c33-ed2efc73392e",
   "metadata": {},
   "outputs": [
    {
     "data": {
      "text/plain": [
       "Text(0.5, 1.0, 'Średni przychód i budżet filmu w latach 2010-2016')"
      ]
     },
     "execution_count": 26,
     "metadata": {},
     "output_type": "execute_result"
    },
    {
     "data": {
      "image/png": "[encoded data removed]",
      "text/plain": [
       "<Figure size 640x480 with 1 Axes>"
      ]
     },
     "metadata": {},
     "output_type": "display_data"
    }
   ],
   "source": [
    "def million(x, pos):\n",
    "        return 'USD {:2.1f}M'.format(x*1e-6)\n",
    "fig, ax = plt.subplots()\n",
    "formatter = plt.FuncFormatter(million)\n",
    "ax.yaxis.set_major_formatter(formatter)\n",
    "ax.yaxis.set_major_locator(plt.MultipleLocator(20e6))\n",
    "ax.bar(index, revenue,label='revenue')\n",
    "ax.plot(index, budget, label='budget', color='red',linewidth=4,)\n",
    "ax.legend(loc=(1.05,0.7))\n",
    "ax.set_title('Średni przychód i budżet filmu w latach 2010-2016')"
   ]
  },
  {
   "cell_type": "markdown",
   "id": "e5def855-8916-4fe4-be76-13ef9fc41fd9",
   "metadata": {},
   "source": [
    "## Zadanie 3"
   ]
  },
  {
   "cell_type": "markdown",
   "id": "db368ccf-91aa-4069-84f1-fd18b915a9a7",
   "metadata": {},
   "source": [
    "#### wczytanie pierwotnych danych do zmiennych"
   ]
  },
  {
   "cell_type": "code",
   "execution_count": 29,
   "id": "b7b12416-bab3-49cc-a5e2-e9a4b03f3762",
   "metadata": {},
   "outputs": [],
   "source": [
    "film_base_temp = film_base\n",
    "film_genres_temp = film_genres"
   ]
  },
  {
   "cell_type": "markdown",
   "id": "a34f4ce3-7e80-4dbc-bc84-bd9004df557d",
   "metadata": {},
   "source": [
    "#### Zmiana nazwe kolumy w film genres by możliwa była operacja merge na określonym kluczu"
   ]
  },
  {
   "cell_type": "code",
   "execution_count": 31,
   "id": "cee89212-a719-4ec2-a0db-186828792e76",
   "metadata": {},
   "outputs": [],
   "source": [
    "film_genres_temp=film_genres_temp.rename(columns={'Unnamed: 0':'genre_id'})\n",
    "film_base_genres_runtime = pd.merge(film_base_temp,film_genres_temp,how='inner',on='genre_id')"
   ]
  },
  {
   "cell_type": "markdown",
   "id": "bd30dc0f-df8e-40a7-944b-b69de569662a",
   "metadata": {},
   "source": [
    "#### Wyświetlenie wyniku powyższej operacji - dodano kolumne genres"
   ]
  },
  {
   "cell_type": "code",
   "execution_count": 33,
   "id": "4d538d06-398f-4058-ba76-e71b5c4b2047",
   "metadata": {},
   "outputs": [
    {
     "data": {
      "text/html": [
       "<div>\n",
       "<style scoped>\n",
       "    .dataframe tbody tr th:only-of-type {\n",
       "        vertical-align: middle;\n",
       "    }\n",
       "\n",
       "    .dataframe tbody tr th {\n",
       "        vertical-align: top;\n",
       "    }\n",
       "\n",
       "    .dataframe thead th {\n",
       "        text-align: right;\n",
       "    }\n",
       "</style>\n",
       "<table border=\"1\" class=\"dataframe\">\n",
       "  <thead>\n",
       "    <tr style=\"text-align: right;\">\n",
       "      <th></th>\n",
       "      <th>release_date</th>\n",
       "      <th>revenue</th>\n",
       "      <th>runtime</th>\n",
       "      <th>status</th>\n",
       "      <th>tagline</th>\n",
       "      <th>title</th>\n",
       "      <th>vote_average</th>\n",
       "      <th>vote_count</th>\n",
       "      <th>genre_id</th>\n",
       "      <th>genres</th>\n",
       "    </tr>\n",
       "  </thead>\n",
       "  <tbody>\n",
       "    <tr>\n",
       "      <th>0</th>\n",
       "      <td>2009-12-10</td>\n",
       "      <td>2787965087</td>\n",
       "      <td>162.0</td>\n",
       "      <td>Released</td>\n",
       "      <td>Enter the World of Pandora.</td>\n",
       "      <td>Avatar</td>\n",
       "      <td>7.2</td>\n",
       "      <td>11800</td>\n",
       "      <td>28.0</td>\n",
       "      <td>Action</td>\n",
       "    </tr>\n",
       "  </tbody>\n",
       "</table>\n",
       "</div>"
      ],
      "text/plain": [
       "  release_date     revenue  runtime    status                      tagline  \\\n",
       "0   2009-12-10  2787965087    162.0  Released  Enter the World of Pandora.   \n",
       "\n",
       "    title  vote_average  vote_count  genre_id  genres  \n",
       "0  Avatar           7.2       11800      28.0  Action  "
      ]
     },
     "execution_count": 33,
     "metadata": {},
     "output_type": "execute_result"
    }
   ],
   "source": [
    "film_base_genres_runtime.iloc[:1,8:]"
   ]
  },
  {
   "cell_type": "markdown",
   "id": "72a3684d-5da3-46e7-bb3b-5389fb5205f4",
   "metadata": {},
   "source": [
    "## Zadanie 4 "
   ]
  },
  {
   "cell_type": "markdown",
   "id": "c90bb441-2e54-41ec-b1fa-08b98acdaab4",
   "metadata": {},
   "source": [
    "#### Tabele z poprzedniego zadania posłuzy do wyekstrahowania kolumny genres. Nastepnie wykonujemy na niej grupowanie i liczenie poszczegolnych ilości. Na końcu sortujemu"
   ]
  },
  {
   "cell_type": "code",
   "execution_count": 36,
   "id": "1ff7d846-3dad-4298-a8f6-c3d1977afd40",
   "metadata": {},
   "outputs": [],
   "source": [
    "most_common_genre = film_base_genres_runtime[['genres']]\n",
    "most_common_genre = most_common_genre.groupby('genres').value_counts().sort_values(ascending=False)"
   ]
  },
  {
   "cell_type": "markdown",
   "id": "a57d7783-2d52-4f53-81a6-7414a99c6df7",
   "metadata": {},
   "source": [
    "#### Drukujemy odpowiedź"
   ]
  },
  {
   "cell_type": "code",
   "execution_count": 38,
   "id": "815e6b95-7efa-4c1c-9b52-810658866b8f",
   "metadata": {},
   "outputs": [
    {
     "name": "stdout",
     "output_type": "stream",
     "text": [
      "Gatunek który najczęściej pojawia się w bazie to: Drama \n",
      "Filmów tego gatunku jest 1207 w bazie danych\n"
     ]
    }
   ],
   "source": [
    "print(\"Gatunek który najczęściej pojawia się w bazie to:\",most_common_genre.index[0],\"\\nFilmów tego gatunku jest\",most_common_genre.iloc[0],\"w bazie danych\")"
   ]
  },
  {
   "cell_type": "markdown",
   "id": "f48776a6-264c-4211-8fc2-be6c815a8af7",
   "metadata": {},
   "source": [
    "## Zadanie 5"
   ]
  },
  {
   "cell_type": "markdown",
   "id": "f5f2c156-c01b-459e-b2d9-09d8c5d811b8",
   "metadata": {},
   "source": [
    "#### W tym zadaniu równiez posłużymy się tabelą z końca zadania 3. Na początek usuwamy wszytskie wpisy NaN i tworzymy tabele przestawną by dla każdego gatunku obliczyć średnią czasu trwania filmu"
   ]
  },
  {
   "cell_type": "code",
   "execution_count": 41,
   "id": "d838d240-1c51-4eb2-8d29-f9865c37bef4",
   "metadata": {},
   "outputs": [],
   "source": [
    "genre_longest_runtime = film_base_genres_runtime[['genres','runtime']].dropna()\n",
    "genre_longest_runtime=genre_longest_runtime.pivot_table(index='genres',aggfunc='mean')"
   ]
  },
  {
   "cell_type": "markdown",
   "id": "0f6c04aa-707b-4695-9ac8-dc50c5cf89c1",
   "metadata": {},
   "source": [
    "#### Sortujemy tabelę i drukujemy odpowiedź na pytanie z zadania 5"
   ]
  },
  {
   "cell_type": "code",
   "execution_count": 43,
   "id": "002872c8-1f8c-4c37-bec9-d8fd51cc85cf",
   "metadata": {},
   "outputs": [
    {
     "name": "stdout",
     "output_type": "stream",
     "text": [
      "Najdłużej średnio twały filmy z gatunku: History \n",
      "Film z tego gatunku trwał średnio: 133.96\n"
     ]
    }
   ],
   "source": [
    "genre_longest_runtime.sort_values(ascending=False, by='runtime',inplace=True)\n",
    "print(\"Najdłużej średnio twały filmy z gatunku:\",genre_longest_runtime.index[0],\"\\nFilm z tego gatunku trwał średnio:\",genre_longest_runtime.iloc[0,0])"
   ]
  },
  {
   "cell_type": "markdown",
   "id": "8aad1c1f-bd72-4159-a44d-a0953b9f4331",
   "metadata": {},
   "source": [
    "## Zadanie 6"
   ]
  },
  {
   "cell_type": "markdown",
   "id": "a0fe7b1a-312b-44c4-ad92-f88d4a9cee20",
   "metadata": {},
   "source": [
    "#### Znów odwołujemy się do tabaeli z końca zadania 3, tym razem, bedziemy potrzbować danych z kolumn 'genres','runtime','title, czyścimy dane z wpisów NaN"
   ]
  },
  {
   "cell_type": "code",
   "execution_count": 46,
   "id": "727e3efb-44f9-40e5-9474-b7f9ad30dae6",
   "metadata": {},
   "outputs": [],
   "source": [
    "longest_movies = film_base_genres_runtime[['genres','runtime','title']].dropna()"
   ]
  },
  {
   "cell_type": "markdown",
   "id": "89bc0e0f-5337-4f1b-ae88-0e06a8dd07f1",
   "metadata": {},
   "source": [
    "#### Filtrujemy dane po kategorii która była wynikiem poprzedniego zadania i przygotowujemy histogram"
   ]
  },
  {
   "cell_type": "code",
   "execution_count": 48,
   "id": "00d0a7ba-81fd-41a6-a6d3-52b04b2483b8",
   "metadata": {},
   "outputs": [],
   "source": [
    "longest_movies = longest_movies[(longest_movies['genres']==genre_longest_runtime.index[0])]"
   ]
  },
  {
   "cell_type": "code",
   "execution_count": 49,
   "id": "1f34a215-17be-4a23-bc9b-26c6b4c7e5a7",
   "metadata": {},
   "outputs": [
    {
     "data": {
      "text/plain": [
       "Text(0.5, 1.0, 'Hisogram czasu trwania filmów z gatunku o najdłuższym średnim czasem trwania')"
      ]
     },
     "execution_count": 49,
     "metadata": {},
     "output_type": "execute_result"
    },
    {
     "data": {
      "image/png": "[encoded data removed]",
      "text/plain": [
       "<Figure size 640x480 with 1 Axes>"
      ]
     },
     "metadata": {},
     "output_type": "display_data"
    }
   ],
   "source": [
    "fig, ax = plt.subplots()\n",
    "x_axis_desc= np.asarray(longest_movies.iloc[:,2])\n",
    "values = np.asarray(longest_movies.iloc[:,1])\n",
    "ax.tick_params(axis='x', labelrotation=90)\n",
    "ax.bar(x_axis_desc, values)\n",
    "ax.set_ylabel('Czas trwania filmu [min]')\n",
    "ax.set_title('Hisogram czasu trwania filmów z gatunku o najdłuższym średnim czasem trwania')"
   ]
  },
  {
   "cell_type": "code",
   "execution_count": null,
   "id": "10a8bcf6-7ad1-415a-b6b0-6570e64f012e",
   "metadata": {},
   "outputs": [],
   "source": []
  }
 ],
 "metadata": {
  "kernelspec": {
   "display_name": "Python 3 (ipykernel)",
   "language": "python",
   "name": "python3"
  },
  "language_info": {
   "codemirror_mode": {
    "name": "ipython",
    "version": 3
   },
   "file_extension": ".py",
   "mimetype": "text/x-python",
   "name": "python",
   "nbconvert_exporter": "python",
   "pygments_lexer": "ipython3",
   "version": "3.12.3"
  }
 },
 "nbformat": 4,
 "nbformat_minor": 5
}
